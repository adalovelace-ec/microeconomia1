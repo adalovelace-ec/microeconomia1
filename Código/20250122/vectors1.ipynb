{
 "cells": [
  {
   "cell_type": "code",
   "execution_count": 1,
   "metadata": {},
   "outputs": [],
   "source": [
    "%matplotlib widget\n",
    "# para que funcione el probrama de abajo, asegurarse que se intaló estos dos:\n",
    "# conda install ipywidgets\n",
    "#conda install -c conda-forge ipympl\n",
    "# puede ser necesaario reinicciar VSC"
   ]
  },
  {
   "cell_type": "code",
   "execution_count": null,
   "metadata": {},
   "outputs": [],
   "source": [
    "\"\"\"\n",
    "#raices reales y distintas\n",
    "A = np.array([[1, -2],\n",
    "               [-2, -1]])\n",
    "\n",
    "\n",
    "#raíces reales e iguales\n",
    "A = np.array([[3, -2],\n",
    "               [1/2, 1]])\n",
    "\n",
    "#raíces complejas\n",
    "A = np.array([[1, -2],\n",
    "               [1,  -1]])\n",
    "\n",
    "               \"\"\""
   ]
  },
  {
   "cell_type": "code",
   "execution_count": 13,
   "metadata": {},
   "outputs": [
    {
     "name": "stdout",
     "output_type": "stream",
     "text": [
      "Valores propios de A: [4.+1.58713096e-08j 4.-1.58713096e-08j]\n",
      "Vectores propios de A, primer vector:  (0.8944271909999157+0j)   (0.44721359549995787-3.5489327132761447e-09j)\n",
      "segundo vector:  (0.8944271909999157-0j)   (0.44721359549995787+3.5489327132761447e-09j)\n"
     ]
    },
    {
     "data": {
      "application/vnd.jupyter.widget-view+json": {
       "model_id": "80ab04c33eda438bbd94c210e07eeb35",
       "version_major": 2,
       "version_minor": 0
      },
      "text/plain": [
       "interactive(children=(FloatSlider(value=1.0, description='x', layout=Layout(height='50px', width='1200px'), ma…"
      ]
     },
     "metadata": {},
     "output_type": "display_data"
    },
    {
     "data": {
      "application/vnd.jupyter.widget-view+json": {
       "model_id": "d6ba08f0fe43421e8c5c68fe3c09c00c",
       "version_major": 2,
       "version_minor": 0
      },
      "image/png": "[encoded data removed]",
      "text/html": [
       "\n",
       "            <div style=\"display: inline-block;\">\n",
       "                <div class=\"jupyter-widgets widget-label\" style=\"text-align: center;\">\n",
       "                    Figure\n",
       "                </div>\n",
       "                <img src='data:image/png;base64,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' width=600.0/>\n",
       "            </div>\n",
       "        "
      ],
      "text/plain": [
       "Canvas(toolbar=Toolbar(toolitems=[('Home', 'Reset original view', 'home', 'home'), ('Back', 'Back to previous …"
      ]
     },
     "metadata": {},
     "output_type": "display_data"
    }
   ],
   "source": [
    "import numpy as np\n",
    "import matplotlib.pyplot as plt\n",
    "from ipywidgets import interact, FloatSlider, Layout\n",
    "\n",
    "# If you're in Jupyter, make sure to enable an interactive backend:\n",
    "# %matplotlib widget\n",
    "\n",
    "# Define transformation matrix\n",
    "A = np.array([[6, -4],\n",
    "               [1, 2]])\n",
    "\n",
    "# Calculate eigenvalues and eigenvectors\n",
    "eigenvalues, eigenvectors = np.linalg.eig(A)\n",
    "print(\"Valores propios de A:\", eigenvalues)\n",
    "print(\"Vectores propios de A, primer vector: \", eigenvectors[0,0], \" \", eigenvectors[1,0])\n",
    "print(\"segundo vector: \", eigenvectors[0,1], \" \", eigenvectors[1,1])\n",
    "\n",
    "\n",
    "# Create a new figure and axes\n",
    "fig, ax = plt.subplots(figsize=(6, 6))\n",
    "ax.set_xlim(-5, 5)\n",
    "ax.set_ylim(-5, 5)\n",
    "ax.grid(True)\n",
    "ax.set_aspect('equal')\n",
    "\n",
    "# Add coordinate axes\n",
    "ax.axhline(y=0, color='k', linewidth=0.5)\n",
    "ax.axvline(x=0, color='k', linewidth=0.5)\n",
    "\n",
    "# Global quiver objects (initialized to None)\n",
    "quiver_orig = None\n",
    "quiver_trans = None\n",
    "\n",
    "def plot_vectors(x, y):\n",
    "    global quiver_orig, quiver_trans\n",
    "    \n",
    "    # Remove previous vectors if they exist\n",
    "    if quiver_orig is not None:\n",
    "        quiver_orig.remove()\n",
    "    if quiver_trans is not None:\n",
    "        quiver_trans.remove()\n",
    "    \n",
    "    # Original vector\n",
    "    quiver_orig = ax.quiver(0, 0, x, y, \n",
    "                            angles='xy', scale_units='xy', scale=1, \n",
    "                            color='blue', width=0.02, label='(x, y)')\n",
    "\n",
    "    # Transformed vector\n",
    "    v = A @ np.array([x, y])\n",
    "    quiver_trans = ax.quiver(0, 0, v[0], v[1],\n",
    "                             angles='xy', scale_units='xy', scale=1,\n",
    "                             color='red', width=0.02, label='A(x, y)')\n",
    "    \n",
    "    # Trigger an update of the figure\n",
    "    fig.canvas.draw_idle()\n",
    "\n",
    "# Create sliders with increased size\n",
    "x_slider = FloatSlider(\n",
    "    min=-5, max=5, step=0.01, value=1, description='x',\n",
    "    layout=Layout(width='1200px', height='50px')  # Larger size\n",
    ")\n",
    "y_slider = FloatSlider(\n",
    "    min=-5, max=5, step=0.01, value=1, description='y',\n",
    "    layout=Layout(width='1200px', height='50px')  # Larger size\n",
    ")\n",
    "\n",
    "# Set up interactive widget\n",
    "interact(plot_vectors, x=x_slider, y=y_slider)\n",
    "\n",
    "plt.show()\n"
   ]
  }
 ],
 "metadata": {
  "kernelspec": {
   "display_name": "clase_mate",
   "language": "python",
   "name": "python3"
  },
  "language_info": {
   "codemirror_mode": {
    "name": "ipython",
    "version": 3
   },
   "file_extension": ".py",
   "mimetype": "text/x-python",
   "name": "python",
   "nbconvert_exporter": "python",
   "pygments_lexer": "ipython3",
   "version": "3.12.5"
  }
 },
 "nbformat": 4,
 "nbformat_minor": 2
}
