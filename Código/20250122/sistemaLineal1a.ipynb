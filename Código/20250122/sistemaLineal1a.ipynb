{
 "cells": [
  {
   "cell_type": "code",
   "execution_count": 6,
   "metadata": {},
   "outputs": [],
   "source": [
    "%matplotlib widget\n",
    "# para que funcione el probrama de abajo, asegurarse que se intaló estos dos:\n",
    "# conda install ipywidgets\n",
    "#conda install -c conda-forge ipympl\n",
    "# puede ser necesaario reinicciar VSC"
   ]
  },
  {
   "cell_type": "code",
   "execution_count": 16,
   "metadata": {},
   "outputs": [
    {
     "data": {
      "application/vnd.jupyter.widget-view+json": {
       "model_id": "d94a778533034056a536691a6da7e8b9",
       "version_major": 2,
       "version_minor": 0
      },
      "text/plain": [
       "interactive(children=(FloatSlider(value=1.0, description='a', max=1.0, min=-1.0, step=0.01), FloatSlider(value…"
      ]
     },
     "metadata": {},
     "output_type": "display_data"
    },
    {
     "data": {
      "text/plain": [
       "<function __main__.plot_phase_diagram(a, b, c, d)>"
      ]
     },
     "execution_count": 16,
     "metadata": {},
     "output_type": "execute_result"
    }
   ],
   "source": [
    "import numpy as np\n",
    "import matplotlib.pyplot as plt\n",
    "from ipywidgets import interact, FloatSlider\n",
    "\n",
    "# Define the system of differential equations with parameters\n",
    "def system(x, y, a, b, c, d):\n",
    "    dxdt = a * x + b * y\n",
    "    dydt = c * x  + d * y\n",
    "    return dxdt, dydt\n",
    "\n",
    "def propios(a,b,c,d):\n",
    "    # Compute the  eigenvectors of the Jacobian matrix\n",
    "    J = np.array([[a, b], [c, d]])\n",
    "    _, eigenvectors = np.linalg.eig(J)\n",
    "    return eigenvectors\n",
    "\n",
    "\n",
    "\n",
    "# Function to plot the phase diagram with nullclines\n",
    "def plot_phase_diagram(a, b, c, d):\n",
    "    # Create a grid of points\n",
    "    x = np.linspace(-10, 10, 400)\n",
    "    y = np.linspace(-10, 10, 400)\n",
    "    X, Y = np.meshgrid(x, y)\n",
    "\n",
    "    # Compute the derivatives at each point\n",
    "    DX, DY = system(X, Y, a, b, c, d)\n",
    "\n",
    "    # Plot the phase diagram\n",
    "    plt.figure(figsize=(8, 6))\n",
    "    plt.streamplot(X, Y, DX, DY, color='black')\n",
    "\n",
    "    # Calculate and plot the eigenvectors\n",
    "    VV = propios(a,b,c,d)\n",
    "    print(VV)\n",
    "    vector1 = VV[0,0] * X + VV[1,0] * Y  # Evaluate nullcline for dx/dt = 0\n",
    "    vector2 = VV[0,1]* X + VV[1,1] * Y  # Evaluate nullcline for dy/dt = 0\n",
    "\n",
    "    plt.contour(X, Y, vector1, levels=[0], colors='red', label='dx/dt = 0')\n",
    "    plt.contour(X, Y, vector2, levels=[0], colors='blue', label='dy/dt = 0')\n",
    "\n",
    "    # Calculate and plot the nullclines\n",
    "    nullcline_x = a * X + b * Y\n",
    "    nullcline_y = c * X + d * Y\n",
    "\n",
    "    plt.contour(X, Y, nullcline_x, levels=[0], colors='red', linestyles='dashed', label='dx/dt = 0')\n",
    "    plt.contour(X, Y, nullcline_y, levels=[0], colors='blue', linestyles='dashed', label='dy/dt = 0')\n",
    "\n",
    "\n",
    "\n",
    "    plt.xlabel('x')\n",
    "    plt.ylabel('y')\n",
    "    plt.title('Phase Diagram with Eigenvectors')\n",
    "    plt.grid()\n",
    "    plt.legend()\n",
    "    plt.show()\n",
    "\n",
    "\n",
    "# Create sliders for the coefficients\n",
    "a_slider = FloatSlider(min=-1, max=1, step=0.01, value=1, description='a')\n",
    "b_slider = FloatSlider(min=-1, max=1, step=0.01, value=1, description='b')\n",
    "c_slider = FloatSlider(min=-1, max=1, step=0.01, value=-0.6, description='c')\n",
    "d_slider = FloatSlider(min=-1, max=1, step=0.01, value=1, description='d')\n",
    "\n",
    "# Use interact to update the plot with slider values\n",
    "interact(plot_phase_diagram, a=a_slider, b=b_slider, c=c_slider, d=d_slider)"
   ]
  },
  {
   "cell_type": "code",
   "execution_count": 21,
   "metadata": {},
   "outputs": [
    {
     "data": {
      "application/vnd.jupyter.widget-view+json": {
       "model_id": "d53df4b80cc04e5a83eeb7cac66d830b",
       "version_major": 2,
       "version_minor": 0
      },
      "text/plain": [
       "interactive(children=(FloatSlider(value=1.0, description='a', max=1.0, min=-1.0, step=0.01), FloatSlider(value…"
      ]
     },
     "metadata": {},
     "output_type": "display_data"
    },
    {
     "data": {
      "application/vnd.jupyter.widget-view+json": {
       "model_id": "b854a3b2f7de497aa5bfc3878e6c186a",
       "version_major": 2,
       "version_minor": 0
      },
      "text/plain": [
       "VBox(children=(Output(), FloatSlider(value=1.0, description='a', max=1.0, min=-1.0, step=0.01), FloatSlider(va…"
      ]
     },
     "execution_count": 21,
     "metadata": {},
     "output_type": "execute_result"
    }
   ],
   "source": [
    "import numpy as np\n",
    "import matplotlib.pyplot as plt\n",
    "from ipywidgets import interact, FloatSlider, VBox, Output\n",
    "\n",
    "# Define the system of differential equations with parameters\n",
    "def system(x, y, a, d):\n",
    "    dxdt = a * x - (a + d + 1 + a * d) * y\n",
    "    dydt = -x + d * y\n",
    "    return dxdt, dydt\n",
    "\n",
    "def propios(a, d):\n",
    "    # Compute the eigenvectors of the Jacobian matrix\n",
    "    J = np.array([[a, -(a + d + 1 + a * d)], [-1, d]])\n",
    "    _, eigenvectors = np.linalg.eig(J)\n",
    "    return eigenvectors\n",
    "\n",
    "# Function to plot the phase diagram with nullclines\n",
    "def plot_phase_diagram(a, d):\n",
    "    # Create a grid of points\n",
    "    x = np.linspace(-10, 10, 400)\n",
    "    y = np.linspace(-10, 10, 400)\n",
    "    X, Y = np.meshgrid(x, y)\n",
    "\n",
    "    # Compute the derivatives at each point\n",
    "    DX, DY = system(X, Y, a, d)\n",
    "\n",
    "    # Plot the phase diagram\n",
    "    plt.figure(figsize=(8, 6))\n",
    "    plt.streamplot(X, Y, DX, DY, color='black')\n",
    "\n",
    "    # Calculate and plot the eigenvectors\n",
    "    VV = propios(a, d)\n",
    "    vector1 = VV[0, 0] * X + VV[1, 0] * Y\n",
    "    vector2 = VV[0, 1] * X + VV[1, 1] * Y\n",
    "\n",
    "    plt.contour(X, Y, vector1, levels=[0], colors='green', label='Eigenvector 1')\n",
    "    plt.contour(X, Y, vector2, levels=[0], colors='orange', label='Eigenvector 2')\n",
    "\n",
    "    # Calculate and plot the nullclines\n",
    "    nullcline_x = a * X - (a + d + 1 + a * d) * Y\n",
    "    nullcline_y = -X + d * Y\n",
    "\n",
    "    plt.contour(X, Y, nullcline_x, levels=[0], colors='red', linestyles='dashed', label='dx/dt = 0')\n",
    "    plt.contour(X, Y, nullcline_y, levels=[0], colors='blue', linestyles='dashed', label='dy/dt = 0')\n",
    "\n",
    "    plt.xlabel('x')\n",
    "    plt.ylabel('y')\n",
    "    plt.title('Phase Diagram with Eigenvectors and Nullclines')\n",
    "    plt.grid()\n",
    "    plt.legend()\n",
    "    plt.show()\n",
    "\n",
    "# Create sliders for the coefficients\n",
    "a_slider = FloatSlider(min=-1, max=1, step=0.01, value=1, description='a')\n",
    "d_slider = FloatSlider(min=-1, max=1, step=0.01, value=1, description='d')\n",
    "\n",
    "# Output widget for the plot\n",
    "output = Output()\n",
    "\n",
    "def update_plot(a, d):\n",
    "    with output:\n",
    "        output.clear_output(wait=True)\n",
    "        plot_phase_diagram(a, d)\n",
    "\n",
    "# Use VBox to organize sliders below the graph\n",
    "ui = VBox([output, a_slider, d_slider])\n",
    "\n",
    "# Link sliders to the update function\n",
    "interact(update_plot, a=a_slider, d=d_slider)\n",
    "\n",
    "# Display the UI\n",
    "ui\n"
   ]
  }
 ],
 "metadata": {
  "kernelspec": {
   "display_name": "clase_mate",
   "language": "python",
   "name": "python3"
  },
  "language_info": {
   "codemirror_mode": {
    "name": "ipython",
    "version": 3
   },
   "file_extension": ".py",
   "mimetype": "text/x-python",
   "name": "python",
   "nbconvert_exporter": "python",
   "pygments_lexer": "ipython3",
   "version": "3.12.5"
  }
 },
 "nbformat": 4,
 "nbformat_minor": 2
}
